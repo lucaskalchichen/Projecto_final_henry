{
 "cells": [
  {
   "cell_type": "markdown",
   "metadata": {},
   "source": [
    "importo librerias"
   ]
  },
  {
   "cell_type": "code",
   "execution_count": 3,
   "metadata": {},
   "outputs": [],
   "source": [
    "import pandas as pd\n",
    "import matplotlib.pyplot as plt\n"
   ]
  },
  {
   "cell_type": "markdown",
   "metadata": {},
   "source": [
    "cargo datasets"
   ]
  },
  {
   "cell_type": "code",
   "execution_count": 4,
   "metadata": {},
   "outputs": [
    {
     "data": {
      "text/html": [
       "<div>\n",
       "<style scoped>\n",
       "    .dataframe tbody tr th:only-of-type {\n",
       "        vertical-align: middle;\n",
       "    }\n",
       "\n",
       "    .dataframe tbody tr th {\n",
       "        vertical-align: top;\n",
       "    }\n",
       "\n",
       "    .dataframe thead th {\n",
       "        text-align: right;\n",
       "    }\n",
       "</style>\n",
       "<table border=\"1\" class=\"dataframe\">\n",
       "  <thead>\n",
       "    <tr style=\"text-align: right;\">\n",
       "      <th></th>\n",
       "      <th>date</th>\n",
       "      <th>weather_code</th>\n",
       "      <th>temperature_2m_mean</th>\n",
       "      <th>apparent_temperature_mean</th>\n",
       "      <th>daylight_duration</th>\n",
       "      <th>precipitation_sum</th>\n",
       "      <th>precipitation_hours</th>\n",
       "      <th>wind_speed_10m_max</th>\n",
       "      <th>shortwave_radiation_sum</th>\n",
       "    </tr>\n",
       "  </thead>\n",
       "  <tbody>\n",
       "    <tr>\n",
       "      <th>0</th>\n",
       "      <td>2022-01-01 04:00:00+00:00</td>\n",
       "      <td>63.0</td>\n",
       "      <td>9.482917</td>\n",
       "      <td>8.331565</td>\n",
       "      <td>33540.297</td>\n",
       "      <td>17.400000</td>\n",
       "      <td>20.0</td>\n",
       "      <td>12.904882</td>\n",
       "      <td>1.61</td>\n",
       "    </tr>\n",
       "    <tr>\n",
       "      <th>1</th>\n",
       "      <td>2022-01-02 04:00:00+00:00</td>\n",
       "      <td>65.0</td>\n",
       "      <td>9.453750</td>\n",
       "      <td>6.778207</td>\n",
       "      <td>33584.836</td>\n",
       "      <td>17.900003</td>\n",
       "      <td>7.0</td>\n",
       "      <td>26.562046</td>\n",
       "      <td>2.57</td>\n",
       "    </tr>\n",
       "    <tr>\n",
       "      <th>2</th>\n",
       "      <td>2022-01-03 04:00:00+00:00</td>\n",
       "      <td>73.0</td>\n",
       "      <td>-1.296250</td>\n",
       "      <td>-7.658655</td>\n",
       "      <td>33633.223</td>\n",
       "      <td>1.900000</td>\n",
       "      <td>7.0</td>\n",
       "      <td>30.855171</td>\n",
       "      <td>1.36</td>\n",
       "    </tr>\n",
       "    <tr>\n",
       "      <th>3</th>\n",
       "      <td>2022-01-04 04:00:00+00:00</td>\n",
       "      <td>1.0</td>\n",
       "      <td>-3.233750</td>\n",
       "      <td>-8.315642</td>\n",
       "      <td>33685.970</td>\n",
       "      <td>0.000000</td>\n",
       "      <td>0.0</td>\n",
       "      <td>21.413193</td>\n",
       "      <td>9.23</td>\n",
       "    </tr>\n",
       "    <tr>\n",
       "      <th>4</th>\n",
       "      <td>2022-01-05 04:00:00+00:00</td>\n",
       "      <td>51.0</td>\n",
       "      <td>1.928750</td>\n",
       "      <td>-2.134451</td>\n",
       "      <td>33742.980</td>\n",
       "      <td>0.300000</td>\n",
       "      <td>3.0</td>\n",
       "      <td>22.975220</td>\n",
       "      <td>3.19</td>\n",
       "    </tr>\n",
       "    <tr>\n",
       "      <th>...</th>\n",
       "      <td>...</td>\n",
       "      <td>...</td>\n",
       "      <td>...</td>\n",
       "      <td>...</td>\n",
       "      <td>...</td>\n",
       "      <td>...</td>\n",
       "      <td>...</td>\n",
       "      <td>...</td>\n",
       "      <td>...</td>\n",
       "    </tr>\n",
       "    <tr>\n",
       "      <th>851</th>\n",
       "      <td>2024-05-01 04:00:00+00:00</td>\n",
       "      <td>53.0</td>\n",
       "      <td>15.180833</td>\n",
       "      <td>14.464070</td>\n",
       "      <td>50333.867</td>\n",
       "      <td>1.500000</td>\n",
       "      <td>4.0</td>\n",
       "      <td>19.829433</td>\n",
       "      <td>21.93</td>\n",
       "    </tr>\n",
       "    <tr>\n",
       "      <th>852</th>\n",
       "      <td>2024-05-02 04:00:00+00:00</td>\n",
       "      <td>3.0</td>\n",
       "      <td>18.128748</td>\n",
       "      <td>17.196583</td>\n",
       "      <td>50472.664</td>\n",
       "      <td>0.000000</td>\n",
       "      <td>0.0</td>\n",
       "      <td>22.668570</td>\n",
       "      <td>23.00</td>\n",
       "    </tr>\n",
       "    <tr>\n",
       "      <th>853</th>\n",
       "      <td>2024-05-03 04:00:00+00:00</td>\n",
       "      <td>3.0</td>\n",
       "      <td>13.357917</td>\n",
       "      <td>11.022576</td>\n",
       "      <td>50610.030</td>\n",
       "      <td>0.000000</td>\n",
       "      <td>0.0</td>\n",
       "      <td>19.228851</td>\n",
       "      <td>21.27</td>\n",
       "    </tr>\n",
       "    <tr>\n",
       "      <th>854</th>\n",
       "      <td>2024-05-04 04:00:00+00:00</td>\n",
       "      <td>3.0</td>\n",
       "      <td>11.318334</td>\n",
       "      <td>9.025203</td>\n",
       "      <td>50745.824</td>\n",
       "      <td>0.000000</td>\n",
       "      <td>0.0</td>\n",
       "      <td>21.203358</td>\n",
       "      <td>16.15</td>\n",
       "    </tr>\n",
       "    <tr>\n",
       "      <th>855</th>\n",
       "      <td>2024-05-05 04:00:00+00:00</td>\n",
       "      <td>61.0</td>\n",
       "      <td>NaN</td>\n",
       "      <td>NaN</td>\n",
       "      <td>50879.920</td>\n",
       "      <td>NaN</td>\n",
       "      <td>12.0</td>\n",
       "      <td>23.675303</td>\n",
       "      <td>NaN</td>\n",
       "    </tr>\n",
       "  </tbody>\n",
       "</table>\n",
       "<p>856 rows × 9 columns</p>\n",
       "</div>"
      ],
      "text/plain": [
       "                          date  weather_code  temperature_2m_mean  \\\n",
       "0    2022-01-01 04:00:00+00:00          63.0             9.482917   \n",
       "1    2022-01-02 04:00:00+00:00          65.0             9.453750   \n",
       "2    2022-01-03 04:00:00+00:00          73.0            -1.296250   \n",
       "3    2022-01-04 04:00:00+00:00           1.0            -3.233750   \n",
       "4    2022-01-05 04:00:00+00:00          51.0             1.928750   \n",
       "..                         ...           ...                  ...   \n",
       "851  2024-05-01 04:00:00+00:00          53.0            15.180833   \n",
       "852  2024-05-02 04:00:00+00:00           3.0            18.128748   \n",
       "853  2024-05-03 04:00:00+00:00           3.0            13.357917   \n",
       "854  2024-05-04 04:00:00+00:00           3.0            11.318334   \n",
       "855  2024-05-05 04:00:00+00:00          61.0                  NaN   \n",
       "\n",
       "     apparent_temperature_mean  daylight_duration  precipitation_sum  \\\n",
       "0                     8.331565          33540.297          17.400000   \n",
       "1                     6.778207          33584.836          17.900003   \n",
       "2                    -7.658655          33633.223           1.900000   \n",
       "3                    -8.315642          33685.970           0.000000   \n",
       "4                    -2.134451          33742.980           0.300000   \n",
       "..                         ...                ...                ...   \n",
       "851                  14.464070          50333.867           1.500000   \n",
       "852                  17.196583          50472.664           0.000000   \n",
       "853                  11.022576          50610.030           0.000000   \n",
       "854                   9.025203          50745.824           0.000000   \n",
       "855                        NaN          50879.920                NaN   \n",
       "\n",
       "     precipitation_hours  wind_speed_10m_max  shortwave_radiation_sum  \n",
       "0                   20.0           12.904882                     1.61  \n",
       "1                    7.0           26.562046                     2.57  \n",
       "2                    7.0           30.855171                     1.36  \n",
       "3                    0.0           21.413193                     9.23  \n",
       "4                    3.0           22.975220                     3.19  \n",
       "..                   ...                 ...                      ...  \n",
       "851                  4.0           19.829433                    21.93  \n",
       "852                  0.0           22.668570                    23.00  \n",
       "853                  0.0           19.228851                    21.27  \n",
       "854                  0.0           21.203358                    16.15  \n",
       "855                 12.0           23.675303                      NaN  \n",
       "\n",
       "[856 rows x 9 columns]"
      ]
     },
     "execution_count": 4,
     "metadata": {},
     "output_type": "execute_result"
    }
   ],
   "source": [
    "df = pd.read_csv(r'daily_data.csv')\n",
    "\n",
    "df\n",
    "\n"
   ]
  },
  {
   "cell_type": "markdown",
   "metadata": {},
   "source": [
    "nulos"
   ]
  },
  {
   "cell_type": "code",
   "execution_count": 5,
   "metadata": {},
   "outputs": [
    {
     "name": "stdout",
     "output_type": "stream",
     "text": [
      "El número de filas con valores nulos es 4\n",
      "El número de columnas con valores nulos es 4\n"
     ]
    }
   ],
   "source": [
    "# Verificar el número de filas con valores nulos\n",
    "num_filas_nulas = df.isnull().sum(axis=1).sum()\n",
    "print(f\"El número de filas con valores nulos es {num_filas_nulas}\")\n",
    "\n",
    "# Verificar el número de columnas con valores nulos\n",
    "num_columnas_nulas = df.isnull().sum(axis=0).sum()\n",
    "print(f\"El número de columnas con valores nulos es {num_columnas_nulas}\")\n",
    "\n"
   ]
  },
  {
   "cell_type": "code",
   "execution_count": 7,
   "metadata": {},
   "outputs": [
    {
     "name": "stdout",
     "output_type": "stream",
     "text": [
      "                          date  weather_code  temperature_2m_mean  \\\n",
      "855  2024-05-05 04:00:00+00:00          61.0                  NaN   \n",
      "\n",
      "     apparent_temperature_mean  daylight_duration  precipitation_sum  \\\n",
      "855                        NaN           50879.92                NaN   \n",
      "\n",
      "     precipitation_hours  wind_speed_10m_max  shortwave_radiation_sum  \n",
      "855                 12.0           23.675303                      NaN  \n"
     ]
    }
   ],
   "source": [
    "# Identificar qué filas tienen valores nulos\n",
    "filas_con_nulos = df[df.isnull().any(axis=1)]\n",
    "\n",
    "# Imprimir las filas con valores nulos\n",
    "print(filas_con_nulos)"
   ]
  },
  {
   "cell_type": "markdown",
   "metadata": {},
   "source": [
    "diagrama boxplot"
   ]
  },
  {
   "cell_type": "code",
   "execution_count": 11,
   "metadata": {},
   "outputs": [
    {
     "data": {
      "image/png": "[encoded data removed]",
      "text/plain": [
       "<Figure size 640x480 with 1 Axes>"
      ]
     },
     "metadata": {},
     "output_type": "display_data"
    },
    {
     "data": {
      "image/png": "[encoded data removed]",
      "text/plain": [
       "<Figure size 1000x600 with 1 Axes>"
      ]
     },
     "metadata": {},
     "output_type": "display_data"
    }
   ],
   "source": [
    "\n",
    "df\n",
    "df.boxplot(patch_artist=True, sym='+', showmeans=True,\n",
    "           meanprops={'marker': 'd', 'markerfacecolor': 'yellow', 'markeredgecolor': 'black'},\n",
    "           showcaps=True, caps='black')\n",
    "plt.show()"
   ]
  }
 ],
 "metadata": {
  "kernelspec": {
   "display_name": "Projecto",
   "language": "python",
   "name": "python3"
  },
  "language_info": {
   "codemirror_mode": {
    "name": "ipython",
    "version": 3
   },
   "file_extension": ".py",
   "mimetype": "text/x-python",
   "name": "python",
   "nbconvert_exporter": "python",
   "pygments_lexer": "ipython3",
   "version": "3.12.3"
  }
 },
 "nbformat": 4,
 "nbformat_minor": 2
}
